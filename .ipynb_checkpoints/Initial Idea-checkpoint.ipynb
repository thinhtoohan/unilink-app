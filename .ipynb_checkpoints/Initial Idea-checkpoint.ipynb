{
 "cells": [
  {
   "cell_type": "markdown",
   "id": "52baf7e8-e1a9-43d5-8f5f-cdc30f1522db",
   "metadata": {},
   "source": [
    "## Some scheme to produce data\n",
    "may be from [20][20] cartesian product of 400 users\n",
    "assign them to one of UC or CSU university profile\n",
    "what about profile pictures? \n",
    "May be just work on sample profiles for demo \n",
    "where is this fake data saved, in the database?\n",
    "landing page>>>\n",
    "ask country\n",
    "ask what first language is\n",
    "ask what campus\n",
    "ask what major\n",
    "do some KNN to find who the closest person would be\n",
    "and present those people in cards\n",
    "can send a message to them later\n",
    "that's the basic idea\n",
    "frontend, streamlit is easiest\n",
    "may be dockerize everything? as a practice, good practiice too\n"
   ]
  }
 ],
 "metadata": {
  "kernelspec": {
   "display_name": "Python 3 (ipykernel)",
   "language": "python",
   "name": "python3"
  },
  "language_info": {
   "codemirror_mode": {
    "name": "ipython",
    "version": 3
   },
   "file_extension": ".py",
   "mimetype": "text/x-python",
   "name": "python",
   "nbconvert_exporter": "python",
   "pygments_lexer": "ipython3",
   "version": "3.11.5"
  }
 },
 "nbformat": 4,
 "nbformat_minor": 5
}
